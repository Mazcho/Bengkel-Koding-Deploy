{
 "cells": [
  {
   "cell_type": "markdown",
   "id": "fa622d7c",
   "metadata": {},
   "source": [
    "Projek Bengkel Koding : Hungarian Dataset\n",
    "\n",
    "Nama                  : Nicholaus Verdhy Putranto\n",
    "\n",
    "Nim                   : A11.2020.12447\n",
    "\n",
    "Kelas                 : BKDS07"
   ]
  },
  {
   "cell_type": "markdown",
   "id": "1a5639d5",
   "metadata": {},
   "source": [
    "# Data Collection"
   ]
  },
  {
   "cell_type": "markdown",
   "id": "b0ccb699",
   "metadata": {},
   "source": [
    "Data set pada projek ini diambil dari https://archive.ics.uci.edu/dataset/45/heart+disease"
   ]
  },
  {
   "cell_type": "markdown",
   "id": "70823734",
   "metadata": {},
   "source": [
    "# Load Dataset"
   ]
  },
  {
   "cell_type": "code",
   "execution_count": 1,
   "id": "5cb75af6",
   "metadata": {},
   "outputs": [],
   "source": [
    "#Import library \n",
    "import pandas as pd\n",
    "import numpy as np\n",
    "import re\n",
    "import itertools"
   ]
  },
  {
   "cell_type": "code",
   "execution_count": 2,
   "id": "2a870c82",
   "metadata": {},
   "outputs": [],
   "source": [
    "#load dataset\n",
    "dir = \"hungarian.data\""
   ]
  },
  {
   "cell_type": "code",
   "execution_count": 3,
   "id": "8912e28c",
   "metadata": {},
   "outputs": [
    {
     "ename": "FileNotFoundError",
     "evalue": "[Errno 2] No such file or directory: 'hungarian.data'",
     "output_type": "error",
     "traceback": [
      "\u001b[1;31m---------------------------------------------------------------------------\u001b[0m",
      "\u001b[1;31mFileNotFoundError\u001b[0m                         Traceback (most recent call last)",
      "Cell \u001b[1;32mIn[3], line 2\u001b[0m\n\u001b[0;32m      1\u001b[0m \u001b[38;5;66;03m#melakukan encoding pada dataset\u001b[39;00m\n\u001b[1;32m----> 2\u001b[0m \u001b[38;5;28;01mwith\u001b[39;00m \u001b[38;5;28;43mopen\u001b[39;49m\u001b[43m(\u001b[49m\u001b[38;5;28;43mdir\u001b[39;49m\u001b[43m,\u001b[49m\u001b[43m \u001b[49m\u001b[43mencoding\u001b[49m\u001b[38;5;241;43m=\u001b[39;49m\u001b[38;5;124;43m'\u001b[39;49m\u001b[38;5;124;43mLatin1\u001b[39;49m\u001b[38;5;124;43m'\u001b[39;49m\u001b[43m)\u001b[49m \u001b[38;5;28;01mas\u001b[39;00m file:\n\u001b[0;32m      3\u001b[0m     lines \u001b[38;5;241m=\u001b[39m [line\u001b[38;5;241m.\u001b[39mstrip() \u001b[38;5;28;01mfor\u001b[39;00m line \u001b[38;5;129;01min\u001b[39;00m file]\n\u001b[0;32m      5\u001b[0m \u001b[38;5;66;03m#membuatnya kedalam data frame\u001b[39;00m\n",
      "File \u001b[1;32m~\\anaconda3\\lib\\site-packages\\IPython\\core\\interactiveshell.py:286\u001b[0m, in \u001b[0;36m_modified_open\u001b[1;34m(file, *args, **kwargs)\u001b[0m\n\u001b[0;32m    279\u001b[0m \u001b[38;5;28;01mif\u001b[39;00m file \u001b[38;5;129;01min\u001b[39;00m {\u001b[38;5;241m0\u001b[39m, \u001b[38;5;241m1\u001b[39m, \u001b[38;5;241m2\u001b[39m}:\n\u001b[0;32m    280\u001b[0m     \u001b[38;5;28;01mraise\u001b[39;00m \u001b[38;5;167;01mValueError\u001b[39;00m(\n\u001b[0;32m    281\u001b[0m         \u001b[38;5;124mf\u001b[39m\u001b[38;5;124m\"\u001b[39m\u001b[38;5;124mIPython won\u001b[39m\u001b[38;5;124m'\u001b[39m\u001b[38;5;124mt let you open fd=\u001b[39m\u001b[38;5;132;01m{\u001b[39;00mfile\u001b[38;5;132;01m}\u001b[39;00m\u001b[38;5;124m by default \u001b[39m\u001b[38;5;124m\"\u001b[39m\n\u001b[0;32m    282\u001b[0m         \u001b[38;5;124m\"\u001b[39m\u001b[38;5;124mas it is likely to crash IPython. If you know what you are doing, \u001b[39m\u001b[38;5;124m\"\u001b[39m\n\u001b[0;32m    283\u001b[0m         \u001b[38;5;124m\"\u001b[39m\u001b[38;5;124myou can use builtins\u001b[39m\u001b[38;5;124m'\u001b[39m\u001b[38;5;124m open.\u001b[39m\u001b[38;5;124m\"\u001b[39m\n\u001b[0;32m    284\u001b[0m     )\n\u001b[1;32m--> 286\u001b[0m \u001b[38;5;28;01mreturn\u001b[39;00m io_open(file, \u001b[38;5;241m*\u001b[39margs, \u001b[38;5;241m*\u001b[39m\u001b[38;5;241m*\u001b[39mkwargs)\n",
      "\u001b[1;31mFileNotFoundError\u001b[0m: [Errno 2] No such file or directory: 'hungarian.data'"
     ]
    }
   ],
   "source": [
    "#melakukan encoding pada dataset\n",
    "with open(dir, encoding='Latin1') as file:\n",
    "    lines = [line.strip() for line in file]\n",
    "    \n",
    "#membuatnya kedalam data frame\n",
    "data = itertools.takewhile(\n",
    "    lambda x: len(x) == 76,\n",
    "    (' '.join(lines[i:(i + 10)]).split() for i in range(0, len(lines), 10)))\n",
    "\n",
    "df = pd.DataFrame.from_records(data)\n",
    "df.head()"
   ]
  },
  {
   "cell_type": "code",
   "execution_count": null,
   "id": "4a912c60",
   "metadata": {},
   "outputs": [],
   "source": [
    "# Melihat informasti tipe data yang ada serta jumlah data yang ada setiap vaiabel\n",
    "df.info()"
   ]
  },
  {
   "cell_type": "markdown",
   "id": "0013f01f",
   "metadata": {},
   "source": [
    "Sesuai dengan arahan pada sumber dataset, terdapat kolom nama 75 berisikan nilai name. Name mewakili ahkir dari setiap baris data, dan nilai -9.0 mewakili missing value. Maka dari itu kita perlu menghapus kolom 75 dan mengubah tipe data object menjadi float agar kita dapat mengubah -9.0 menjadi Nan"
   ]
  },
  {
   "cell_type": "code",
   "execution_count": null,
   "id": "7811a3e1",
   "metadata": {},
   "outputs": [],
   "source": [
    "#Menghapus kolom 75 berisikan name\n",
    "df.drop(75,axis=1,inplace=True)\n",
    "\n",
    "#menhapus kolom 0 karena itu index data\n",
    "df.drop(0,axis=1,inplace=True)"
   ]
  },
  {
   "cell_type": "code",
   "execution_count": null,
   "id": "30d9b8ea",
   "metadata": {},
   "outputs": [],
   "source": [
    "#mengubah tipe data kolom object menjadi float\n",
    "df = df.astype(float)"
   ]
  },
  {
   "cell_type": "code",
   "execution_count": null,
   "id": "2183b2d9",
   "metadata": {},
   "outputs": [],
   "source": [
    "#melihat informasi tipe data \n",
    "df.info()"
   ]
  },
  {
   "cell_type": "markdown",
   "id": "057b322d",
   "metadata": {},
   "source": [
    "# Validasi Data"
   ]
  },
  {
   "cell_type": "markdown",
   "id": "74e75109",
   "metadata": {},
   "source": [
    "Seperti yang tertera pada sumber data set, -0.9 mewakili missing value. kita gunakan .replace untuk mengganti nilai"
   ]
  },
  {
   "cell_type": "code",
   "execution_count": null,
   "id": "98583442",
   "metadata": {},
   "outputs": [],
   "source": [
    "df.replace(-9.0,np.nan, inplace=True)"
   ]
  },
  {
   "cell_type": "code",
   "execution_count": null,
   "id": "db17ee42",
   "metadata": {},
   "outputs": [],
   "source": [
    "#melihat missing value\n",
    "df.isna().sum()"
   ]
  },
  {
   "cell_type": "code",
   "execution_count": null,
   "id": "c361d0ea",
   "metadata": {},
   "outputs": [],
   "source": [
    "df.isna().sum().sum()"
   ]
  },
  {
   "cell_type": "markdown",
   "id": "cdd6cb47",
   "metadata": {},
   "source": [
    "Pada data set ini tertera nilai missing value sebanyak 8511 data"
   ]
  },
  {
   "cell_type": "code",
   "execution_count": null,
   "id": "a171e012",
   "metadata": {},
   "outputs": [],
   "source": [
    "#sekarang mari kita lihat 5 data teratas pada data set. kita gunakan pd.set_option untuk melihat full kolom\n",
    "pd.set_option(\"Display.max_column\",None)\n",
    "df.head()"
   ]
  },
  {
   "cell_type": "markdown",
   "id": "07dd9540",
   "metadata": {},
   "source": [
    "# Menentukan Fitur"
   ]
  },
  {
   "cell_type": "markdown",
   "id": "78e1fa80",
   "metadata": {},
   "source": [
    "Sesuai dengan sumber penjjelasan datasetnya, fitur yang dugunakan ada pada kolom yang ada pada lokasi [1, 2, 7,8,10,14,17,30,36,38,39,42,49,56]. Maka dari itu kita melakukan pengambilan kolom tersebut"
   ]
  },
  {
   "cell_type": "code",
   "execution_count": null,
   "id": "4c5d55ae",
   "metadata": {},
   "outputs": [],
   "source": [
    "df_selected = df.iloc[:, [1, 2, 7,8,10,14,17,30,36,38,39,42,49,56]]\n",
    "df_selected"
   ]
  },
  {
   "cell_type": "markdown",
   "id": "387a930d",
   "metadata": {},
   "source": [
    "Setelah itu, kita mengganti kolom  nama sesuai dengan arahan dari sumber data set. kita gunakan .rename untuk menggantinya. Sebelumnya kita membuat dictionary yang nantinya kita gunakan untuk mengganti nama kolom"
   ]
  },
  {
   "cell_type": "markdown",
   "id": "216d6fe5",
   "metadata": {},
   "source": [
    "Agar tidak menghilangkan data awal / mentah. Mari kita copy dataframenya kedalam df_selected_copy. Hal ini untuk mengantisipasi agar data asli tidak terkontaminasi dengan data yang telah di prosesing"
   ]
  },
  {
   "cell_type": "code",
   "execution_count": null,
   "id": "26574caa",
   "metadata": {},
   "outputs": [],
   "source": [
    "df_selected_copy = df_selected.copy()"
   ]
  },
  {
   "cell_type": "code",
   "execution_count": null,
   "id": "fe901a3a",
   "metadata": {},
   "outputs": [],
   "source": [
    "#buat dictionary nama\n",
    "nama_kolom = {\n",
    "    2: 'age',\n",
    "    3: 'sex',\n",
    "    8: 'cp',\n",
    "    9: 'trestbps',\n",
    "    11: 'chol',\n",
    "    15: 'fbs',\n",
    "    18: 'restecg',\n",
    "    31: 'thalach',\n",
    "    37: 'exang',\n",
    "    39: 'oldpeak',\n",
    "    40: 'slope',\n",
    "    43: 'ca',\n",
    "    50: 'thal',\n",
    "    57: 'target'\n",
    "}"
   ]
  },
  {
   "cell_type": "code",
   "execution_count": null,
   "id": "0d5d082a",
   "metadata": {},
   "outputs": [],
   "source": [
    "#mengubah nama kolom .rename\n",
    "df_selected_copy.rename(columns=nama_kolom,inplace=True)"
   ]
  },
  {
   "cell_type": "code",
   "execution_count": null,
   "id": "3786d500",
   "metadata": {},
   "outputs": [],
   "source": [
    "df_selected_copy.head()"
   ]
  },
  {
   "cell_type": "markdown",
   "id": "77570870",
   "metadata": {},
   "source": [
    "# Data Cleansing"
   ]
  },
  {
   "cell_type": "markdown",
   "id": "535774e7",
   "metadata": {},
   "source": [
    "Memasuki tahap berikutnya yaitu data cleansing. Data cleansing ini akan berguna untuk menghilangkan missing values pada dataset"
   ]
  },
  {
   "cell_type": "code",
   "execution_count": null,
   "id": "ef4ec274",
   "metadata": {},
   "outputs": [],
   "source": [
    "# melihat missing value pada kolom\n",
    "df_selected_copy.isnull().sum()"
   ]
  },
  {
   "cell_type": "code",
   "execution_count": null,
   "id": "01604c75",
   "metadata": {},
   "outputs": [],
   "source": [
    "#jumlah data\n",
    "df_selected_copy.shape"
   ]
  },
  {
   "cell_type": "code",
   "execution_count": null,
   "id": "f18e2005",
   "metadata": {},
   "outputs": [],
   "source": [
    "df_selected_copy.info()"
   ]
  },
  {
   "cell_type": "markdown",
   "id": "ddb4f2e2",
   "metadata": {},
   "source": [
    "Kita bisa lihat pada missing value, pada kolom slope,ca, dan thal memiliki banyak nilai yang hilang hampir 90%, maka kita hapus kolom tersebut terlebih dahulu"
   ]
  },
  {
   "cell_type": "code",
   "execution_count": null,
   "id": "75ca083e",
   "metadata": {},
   "outputs": [],
   "source": [
    "df_selected_copy.drop([\"slope\",\"ca\",\"thal\"],axis=1, inplace=True)"
   ]
  },
  {
   "cell_type": "code",
   "execution_count": null,
   "id": "a9735ded",
   "metadata": {},
   "outputs": [],
   "source": [
    "df_selected_copy.isna().sum()"
   ]
  },
  {
   "cell_type": "markdown",
   "id": "b58cb2b2",
   "metadata": {},
   "source": [
    "Setelah itu mari kita isi nilai missing value tersebut dengan nilai mean"
   ]
  },
  {
   "cell_type": "code",
   "execution_count": null,
   "id": "04076237",
   "metadata": {},
   "outputs": [],
   "source": [
    "df_selected_copy.describe()"
   ]
  },
  {
   "cell_type": "markdown",
   "id": "3ee17507",
   "metadata": {},
   "source": [
    "Nilai mean dari kolom yang memiliki missing value sudah bertipe float. Kita bisa langsung mengisi nilai hilang dengan fillna dan .mean"
   ]
  },
  {
   "cell_type": "code",
   "execution_count": null,
   "id": "f61548a6",
   "metadata": {},
   "outputs": [],
   "source": [
    "df_selected_copy.fillna(df_selected_copy.mean(),inplace=True)\n",
    "df_selected_copy.isna().sum()"
   ]
  },
  {
   "cell_type": "code",
   "execution_count": null,
   "id": "c225dc8d",
   "metadata": {},
   "outputs": [],
   "source": [
    "df_selected_copy.info()"
   ]
  },
  {
   "cell_type": "markdown",
   "id": "974db80d",
   "metadata": {},
   "source": [
    "Setelah itu saya melakukan pengecekan pada duplikasi data dengan .duplicate"
   ]
  },
  {
   "cell_type": "code",
   "execution_count": null,
   "id": "3ed4e2e3",
   "metadata": {},
   "outputs": [],
   "source": [
    "df_selected_copy.duplicated().sum()"
   ]
  },
  {
   "cell_type": "markdown",
   "id": "264069ad",
   "metadata": {},
   "source": [
    "Terdapat 1 data duplikat, mari kita lihat dalam dataset"
   ]
  },
  {
   "cell_type": "code",
   "execution_count": null,
   "id": "87a12ff4",
   "metadata": {},
   "outputs": [],
   "source": [
    "df_duplikat = df_selected_copy.duplicated()\n",
    "df_selected_copy[df_selected_copy.duplicated(keep=False)]"
   ]
  },
  {
   "cell_type": "markdown",
   "id": "fa24b16c",
   "metadata": {},
   "source": [
    "setelah kita mgengetahui ada duplikasi data, mari kita hapus duplikat datanya"
   ]
  },
  {
   "cell_type": "code",
   "execution_count": null,
   "id": "fb57600e",
   "metadata": {},
   "outputs": [],
   "source": [
    "df_selected_copy.drop_duplicates(inplace=True)"
   ]
  },
  {
   "cell_type": "code",
   "execution_count": null,
   "id": "59735a0b",
   "metadata": {},
   "outputs": [],
   "source": [
    "df_selected_copy.duplicated().sum()"
   ]
  },
  {
   "cell_type": "code",
   "execution_count": null,
   "id": "a1f230f0",
   "metadata": {},
   "outputs": [],
   "source": [
    "df_selected_copy.to_csv(\"Hungarian_Data.csv\",index=False,encoding=\"utf-8\")"
   ]
  },
  {
   "cell_type": "code",
   "execution_count": null,
   "id": "bc4e6338",
   "metadata": {},
   "outputs": [],
   "source": [
    "df_selected_copy.info()"
   ]
  },
  {
   "cell_type": "markdown",
   "id": "41ee34c3",
   "metadata": {},
   "source": [
    "# Melihat korelasi antar data"
   ]
  },
  {
   "cell_type": "code",
   "execution_count": null,
   "id": "653570de",
   "metadata": {},
   "outputs": [],
   "source": [
    "df_selected_copy.corr()"
   ]
  },
  {
   "cell_type": "markdown",
   "id": "bfda1eaa",
   "metadata": {},
   "source": [
    "Untuk visualisasi , menggunakan seabord dengan diimport dahulu"
   ]
  },
  {
   "cell_type": "code",
   "execution_count": null,
   "id": "05314447",
   "metadata": {},
   "outputs": [],
   "source": [
    "#import library\n",
    "import seaborn as sns\n",
    "import matplotlib.pyplot as plt"
   ]
  },
  {
   "cell_type": "code",
   "execution_count": null,
   "id": "c247b0ee",
   "metadata": {},
   "outputs": [],
   "source": [
    "#mendapatkan nilai korelas\n",
    "korelasi_matrix = df_selected_copy.corr()\n",
    "\n",
    "#membuat plot\n",
    "fig,ax = plt.subplots(figsize=(15,10))\n",
    "sns.heatmap(korelasi_matrix,annot=True,linewidths=1.0, fmt=\".3f\")"
   ]
  },
  {
   "cell_type": "markdown",
   "id": "32e67699",
   "metadata": {},
   "source": [
    "Dari korelasi diatas, variabel yang memiliki korelasi yang kuat dengan target diantaranya oldpeak, exang, dan cp. Sedangkan yang memiliki korelas sangat jauh atau kroelasi negatif adalah thalach"
   ]
  },
  {
   "cell_type": "markdown",
   "id": "5a3710a8",
   "metadata": {},
   "source": [
    "# Konstruksi Data"
   ]
  },
  {
   "cell_type": "markdown",
   "id": "06342761",
   "metadata": {},
   "source": [
    "Mari kita melakukan pemisahan terhadap dataset kedalam variabel bebas (x) dan variabel terikat(y). Untuk tipe data sudah sesuai dengan kebutuhan yaitu float"
   ]
  },
  {
   "cell_type": "code",
   "execution_count": null,
   "id": "c52f3b47",
   "metadata": {},
   "outputs": [],
   "source": [
    "df_selected_copy.info()"
   ]
  },
  {
   "cell_type": "code",
   "execution_count": null,
   "id": "d1d5fc85",
   "metadata": {},
   "outputs": [],
   "source": [
    "#memasukkan variebl bebas ke dalam x\n",
    "X = df_selected_copy.drop(\"target\",axis=1)\n",
    "y = df_selected_copy[\"target\"]"
   ]
  },
  {
   "cell_type": "markdown",
   "id": "8c0e43c2",
   "metadata": {},
   "source": [
    "# Balancing Data"
   ]
  },
  {
   "cell_type": "markdown",
   "id": "b386c76c",
   "metadata": {},
   "source": [
    "Karena ini klaisfikasi, mari kita lihat keseimbangan data dialam data ini"
   ]
  },
  {
   "cell_type": "code",
   "execution_count": null,
   "id": "366998c8",
   "metadata": {},
   "outputs": [],
   "source": [
    "df_selected_copy[\"target\"].value_counts().plot(kind='bar',figsize=(10,6),color=['green','blue',\"red\",\"yellow\",\"purple\"])\n",
    "plt.title(\"Count of the target\")\n",
    "plt.xticks(rotation=45);"
   ]
  },
  {
   "cell_type": "markdown",
   "id": "acbbb1e0",
   "metadata": {},
   "source": [
    "Pada data diatas menunjukkan bahwa mayoritas dari dataset ini berkelas 0.0 . Hal ini harus diambil tindakan karena jika kita tidak melakukan balancing data maka model akan lebih mendominasiui untuk memprediksi data kelas 0 dari pada kelas lainnya. Maka dari itu kta lakukan dengan over sampling menggunakan SMOTE"
   ]
  },
  {
   "cell_type": "code",
   "execution_count": null,
   "id": "732e3a58",
   "metadata": {},
   "outputs": [],
   "source": [
    "from imblearn.over_sampling import SMOTE"
   ]
  },
  {
   "cell_type": "code",
   "execution_count": null,
   "id": "6af652d3",
   "metadata": {},
   "outputs": [],
   "source": [
    "#panggil smote\n",
    "smote = SMOTE(random_state=42)\n",
    "X_smote_resampled, y_smote_resampled = smote.fit_resample(X, y)"
   ]
  },
  {
   "cell_type": "code",
   "execution_count": null,
   "id": "6585dc9b",
   "metadata": {},
   "outputs": [],
   "source": [
    "#visualisasi bingkai perbandingan no smote vs SMOTE\n",
    "plt.figure(figsize=(12,8))\n",
    "\n",
    "#mempersiapkan data visualisasi no smote dan smote\n",
    "no_smote_y = pd.DataFrame(data=y)\n",
    "smote_y = pd.DataFrame(data=y_smote_resampled)\n",
    "\n",
    "#membuat visulasisi untu no smote\n",
    "plt.subplot(1, 2, 1)\n",
    "no_smote_y.value_counts().plot(kind='bar',figsize=(10,6),color=['green','blue',\"red\",\"yellow\",\"purple\"])\n",
    "plt.title(\"target before over sampling with SMOTE \")\n",
    "plt.xticks(rotation=0);\n",
    "plt.tight_layout()\n",
    "plt.show()\n",
    "\n",
    "#membuat visulisasi smote\n",
    "plt.subplot(1,2,1)\n",
    "smote_y.value_counts().plot(kind='bar',figsize=(10,6),color=['green','blue',\"red\",\"yellow\",\"purple\"])\n",
    "plt.title(\"target before over sampling with SMOTE \")\n",
    "plt.xticks(rotation=0);\n",
    "\n",
    "plt.tight_layout()\n",
    "plt.show()\n"
   ]
  },
  {
   "cell_type": "code",
   "execution_count": null,
   "id": "bc79493d",
   "metadata": {},
   "outputs": [],
   "source": [
    "#jumlah data kelas no smote\n",
    "no_smote_y.value_counts()"
   ]
  },
  {
   "cell_type": "code",
   "execution_count": null,
   "id": "d993371a",
   "metadata": {},
   "outputs": [],
   "source": [
    "#jumlah data kelas smote\n",
    "smote_y.value_counts()"
   ]
  },
  {
   "cell_type": "markdown",
   "id": "25f96616",
   "metadata": {},
   "source": [
    "# Normalisai Data"
   ]
  },
  {
   "cell_type": "markdown",
   "id": "2f3aa8fc",
   "metadata": {},
   "source": [
    "mari kita lihat deskriptif satatistik yang ada pada data"
   ]
  },
  {
   "cell_type": "code",
   "execution_count": null,
   "id": "07f874e7",
   "metadata": {},
   "outputs": [],
   "source": [
    "df_selected_copy.describe()"
   ]
  },
  {
   "cell_type": "markdown",
   "id": "99d7c37f",
   "metadata": {},
   "source": [
    "Melakukan normalisasi pakai MinMax Scaler"
   ]
  },
  {
   "cell_type": "code",
   "execution_count": null,
   "id": "8fab8a5a",
   "metadata": {},
   "outputs": [],
   "source": [
    "from sklearn.preprocessing import MinMaxScaler\n",
    "scaler = MinMaxScaler()\n",
    "X_smote_resampled_normal = scaler.fit_transform(X_smote_resampled)\n",
    "len(X_smote_resampled_normal)\n",
    "\n",
    "dfcek1 = pd.DataFrame(X_smote_resampled_normal)\n",
    "dfcek1.describe()"
   ]
  },
  {
   "cell_type": "code",
   "execution_count": null,
   "id": "19a4ac36",
   "metadata": {},
   "outputs": [],
   "source": [
    "import json\n",
    "\n",
    "# Hitung nilai minimum dan maksimum untuk setiap fitur\n",
    "min_max_values = {feature: {\"min\": min(values), \"max\": max(values)} for feature, values in dfcek1.items()}\n",
    "\n",
    "# Simpan nilai minimum dan maksimum dalam JSON\n",
    "with open(\"min_max_values.json\", \"w\") as json_file:\n",
    "    json.dump(min_max_values, json_file, indent=2)\n",
    "\n",
    "print(\"Nilai minimum dan maksimum telah disimpan dalam min_max_values.json\")"
   ]
  },
  {
   "cell_type": "code",
   "execution_count": null,
   "id": "93c316e1",
   "metadata": {},
   "outputs": [],
   "source": [
    "X_smote_resampled_normal.size"
   ]
  },
  {
   "cell_type": "code",
   "execution_count": null,
   "id": "e1d05b4d",
   "metadata": {},
   "outputs": [],
   "source": [
    "y_smote_resampled.size"
   ]
  },
  {
   "cell_type": "markdown",
   "id": "4c3187a8",
   "metadata": {},
   "source": [
    "# Spliting Data"
   ]
  },
  {
   "cell_type": "code",
   "execution_count": null,
   "id": "287e4223",
   "metadata": {},
   "outputs": [],
   "source": [
    "from sklearn.model_selection import train_test_split\n",
    "\n",
    "# membagi fitur dan target menjadi data train dan test (untuk yang oversample)\n",
    "X_train, X_test, y_train, y_test = train_test_split(X_smote_resampled, y_smote_resampled, test_size=0.2, random_state=42,stratify=y_smote_resampled)\n",
    "\n",
    "# membagi fitur dan target menjadi data train dan test (untuk yang oversample + normalization)\n",
    "X_train_normal, X_test_normal, y_train_normal, y_test_normal = train_test_split(X_smote_resampled_normal, y_smote_resampled, test_size=0.2, random_state=42,stratify = y_smote_resampled)"
   ]
  },
  {
   "cell_type": "markdown",
   "id": "fa3de725",
   "metadata": {},
   "source": [
    "# MOdeling"
   ]
  },
  {
   "cell_type": "code",
   "execution_count": null,
   "id": "232f7431",
   "metadata": {},
   "outputs": [],
   "source": [
    "from sklearn.metrics import accuracy_score,recall_score,f1_score,precision_score,roc_auc_score,confusion_matrix,precision_score\n",
    "def evaluation(Y_test,Y_pred):\n",
    "    acc = accuracy_score(Y_test,Y_pred)\n",
    "    rcl = recall_score(Y_test,Y_pred,average = 'weighted')\n",
    "    f1 = f1_score(Y_test,Y_pred,average = 'weighted')\n",
    "    ps = precision_score(Y_test,Y_pred,average = 'weighted')\n",
    "\n",
    "    metric_dict={'accuracy': round(acc,3),\n",
    "    'recall': round(rcl,3),\n",
    "    'F1 score': round(f1,3),\n",
    "    'Precision score': round(ps,3)\n",
    "    }\n",
    "    \n",
    "    return print(metric_dict)"
   ]
  },
  {
   "cell_type": "markdown",
   "id": "10ca83b2",
   "metadata": {},
   "source": [
    " ## Oversampled"
   ]
  },
  {
   "cell_type": "code",
   "execution_count": null,
   "id": "357f724f",
   "metadata": {},
   "outputs": [],
   "source": [
    "from sklearn.neighbors import KNeighborsClassifier\n",
    "from sklearn.ensemble import RandomForestClassifier\n",
    "from xgboost import XGBClassifier\n",
    "from sklearn.metrics import accuracy_score, classification_report"
   ]
  },
  {
   "cell_type": "markdown",
   "id": "08336f43",
   "metadata": {},
   "source": [
    "### K-NN"
   ]
  },
  {
   "cell_type": "code",
   "execution_count": null,
   "id": "ee0439e5",
   "metadata": {},
   "outputs": [],
   "source": [
    "KNeighborsClassifier(n_neighbors=3)\n",
    "knn_model = KNeighborsClassifier(n_neighbors = 3)\n",
    "knn_model.fit(X_train, y_train)"
   ]
  },
  {
   "cell_type": "code",
   "execution_count": null,
   "id": "9e9fd332",
   "metadata": {},
   "outputs": [],
   "source": [
    "y_pred_knn = knn_model.predict(X_test)\n",
    "# Evaluate the KNN model\n",
    "print(\"K-Nearest Neighbors (KNN) Model:\")\n",
    "accuracy_knn_smote = round(accuracy_score(y_test,y_pred_knn),3)\n",
    "print(\"Accuracy:\", accuracy_knn_smote)\n",
    "print(\"Classification Report:\")\n",
    "print(classification_report(y_test, y_pred_knn))"
   ]
  },
  {
   "cell_type": "code",
   "execution_count": null,
   "id": "58cf8d5a",
   "metadata": {},
   "outputs": [],
   "source": [
    "evaluation(y_test,y_pred_knn)"
   ]
  },
  {
   "cell_type": "code",
   "execution_count": null,
   "id": "721670f4",
   "metadata": {},
   "outputs": [],
   "source": [
    "cm = confusion_matrix(y_test, y_pred_knn)\n",
    "plt.figure(figsize=(8, 6))\n",
    "sns.heatmap(cm, annot=True, fmt=\"d\", cmap=\"Blues\")\n",
    "plt.title('Confusion Matrix')\n",
    "plt.xlabel('True')\n",
    "plt.ylabel('Predict')\n",
    "plt.show()"
   ]
  },
  {
   "cell_type": "markdown",
   "id": "f62be31a",
   "metadata": {},
   "source": [
    "### Random Forest"
   ]
  },
  {
   "cell_type": "code",
   "execution_count": null,
   "id": "0f75c0a0",
   "metadata": {},
   "outputs": [],
   "source": [
    "rf_model = RandomForestClassifier(n_estimators=100, random_state=42)\n",
    "rf_model.fit(X_train, y_train)"
   ]
  },
  {
   "cell_type": "code",
   "execution_count": null,
   "id": "6f650cad",
   "metadata": {},
   "outputs": [],
   "source": [
    "y_pred_rf = rf_model.predict(X_test)\n",
    "# Evaluate the Random Forest model\n",
    "print(\"\\nRandom Forest Model:\")\n",
    "accuracy_rf_smote = round(accuracy_score(y_test, y_pred_rf),3)\n",
    "print(\"Accuracy:\",accuracy_rf_smote)\n",
    "print(\"Classification Report:\")\n",
    "print(classification_report(y_test, y_pred_rf))"
   ]
  },
  {
   "cell_type": "code",
   "execution_count": null,
   "id": "db198cdc",
   "metadata": {},
   "outputs": [],
   "source": [
    "evaluation(y_test,y_pred_rf)"
   ]
  },
  {
   "cell_type": "code",
   "execution_count": null,
   "id": "69f20aad",
   "metadata": {},
   "outputs": [],
   "source": [
    "cm = confusion_matrix(y_test, y_pred_rf)\n",
    "plt.figure(figsize=(8, 6))\n",
    "sns.heatmap(cm, annot=True, fmt=\"d\", cmap=\"Blues\")\n",
    "plt.title('Confusion Matrix')\n",
    "plt.xlabel('True')\n",
    "plt.ylabel('Predict')\n",
    "plt.show()"
   ]
  },
  {
   "cell_type": "markdown",
   "id": "5d64789c",
   "metadata": {},
   "source": [
    "### XGBOOST"
   ]
  },
  {
   "cell_type": "code",
   "execution_count": null,
   "id": "2a084bad",
   "metadata": {},
   "outputs": [],
   "source": [
    "xgb_model = XGBClassifier(learning_rate=0.1, n_estimators=100, random_state=42)\n",
    "xgb_model.fit(X_train, y_train)"
   ]
  },
  {
   "cell_type": "code",
   "execution_count": null,
   "id": "35e24e8c",
   "metadata": {},
   "outputs": [],
   "source": [
    "y_pred_xgb = xgb_model.predict(X_test)\n",
    "# Evaluate the XGBoost model\n",
    "print(\"\\nXGBoost Model:\")\n",
    "accuracy_xgb_smote = round(accuracy_score(y_test, y_pred_xgb),3)\n",
    "print(\"Accuracy:\",accuracy_xgb_smote)\n",
    "print(\"Classification Report:\")\n",
    "print(classification_report(y_test, y_pred_xgb))"
   ]
  },
  {
   "cell_type": "code",
   "execution_count": null,
   "id": "b0f304b6",
   "metadata": {},
   "outputs": [],
   "source": [
    "evaluation(y_test,y_pred_xgb)"
   ]
  },
  {
   "cell_type": "code",
   "execution_count": null,
   "id": "e1b884c9",
   "metadata": {},
   "outputs": [],
   "source": [
    "cm = confusion_matrix(y_test, y_pred_xgb)\n",
    "plt.figure(figsize=(8, 6))\n",
    "sns.heatmap(cm, annot=True, fmt=\"d\", cmap=\"Blues\")\n",
    "plt.title('Confusion Matrix')\n",
    "plt.xlabel('True')\n",
    "plt.ylabel('Predict')\n",
    "plt.show()"
   ]
  },
  {
   "cell_type": "markdown",
   "id": "285c0604",
   "metadata": {},
   "source": [
    "## Oversampled + Normalisasi"
   ]
  },
  {
   "cell_type": "markdown",
   "id": "8eabd368",
   "metadata": {},
   "source": [
    "### K-NN"
   ]
  },
  {
   "cell_type": "code",
   "execution_count": null,
   "id": "932fa70c",
   "metadata": {},
   "outputs": [],
   "source": [
    "knn_model = KNeighborsClassifier(n_neighbors=3)\n",
    "knn_model.fit(X_train_normal, y_train_normal)\n",
    "\n",
    "y_pred_knn = knn_model.predict(X_test_normal)\n",
    "# Evaluate the KNN model\n",
    "print(\"K-Nearest Neighbors (KNN) Model:\")\n",
    "accuracy_knn_smote_normal = round(accuracy_score(y_test_normal,y_pred_knn),3)\n",
    "print(\"Accuracy:\", accuracy_knn_smote_normal)\n",
    "print(\"Classification Report:\")\n",
    "print(classification_report(y_test_normal, y_pred_knn))"
   ]
  },
  {
   "cell_type": "code",
   "execution_count": null,
   "id": "caa76bd1",
   "metadata": {},
   "outputs": [],
   "source": [
    "evaluation(y_test_normal,y_pred_knn)"
   ]
  },
  {
   "cell_type": "code",
   "execution_count": null,
   "id": "06db3cd9",
   "metadata": {},
   "outputs": [],
   "source": [
    "cm = confusion_matrix(y_test_normal, y_pred_knn)\n",
    "plt.figure(figsize=(8, 6))\n",
    "sns.heatmap(cm, annot=True, fmt=\"d\", cmap=\"Blues\")\n",
    "plt.title('Confusion Matrix')\n",
    "plt.xlabel('True')\n",
    "plt.ylabel('Predict')\n",
    "plt.show()"
   ]
  },
  {
   "cell_type": "markdown",
   "id": "078e1170",
   "metadata": {},
   "source": [
    "### Radom Forest"
   ]
  },
  {
   "cell_type": "code",
   "execution_count": null,
   "id": "40f97b41",
   "metadata": {},
   "outputs": [],
   "source": [
    "rf_model = RandomForestClassifier(n_estimators=100, random_state=42)\n",
    "rf_model.fit(X_train_normal, y_train_normal)"
   ]
  },
  {
   "cell_type": "code",
   "execution_count": null,
   "id": "b3e625ab",
   "metadata": {},
   "outputs": [],
   "source": [
    "y_pred_rf = rf_model.predict(X_test_normal)\n",
    "# Evaluate the Random Forest model\n",
    "print(\"\\nRandom Forest Model:\")\n",
    "accuracy_rf_smote_normal = round(accuracy_score(y_test_normal, y_pred_rf),3)\n",
    "print(\"Accuracy:\",accuracy_rf_smote_normal )\n",
    "print(\"Classification Report:\")\n",
    "print(classification_report(y_test_normal, y_pred_rf))"
   ]
  },
  {
   "cell_type": "code",
   "execution_count": null,
   "id": "eb9839a8",
   "metadata": {},
   "outputs": [],
   "source": [
    "evaluation(y_test_normal,y_pred_rf)"
   ]
  },
  {
   "cell_type": "code",
   "execution_count": null,
   "id": "ba60594e",
   "metadata": {},
   "outputs": [],
   "source": [
    "cm = confusion_matrix(y_test_normal, y_pred_rf)\n",
    "plt.figure(figsize=(8, 6))\n",
    "sns.heatmap(cm, annot=True, fmt=\"d\", cmap=\"Blues\")\n",
    "plt.title('Confusion Matrix')\n",
    "plt.xlabel('True')\n",
    "plt.ylabel('Predict')\n",
    "plt.show()"
   ]
  },
  {
   "cell_type": "code",
   "execution_count": null,
   "id": "e03d6f10",
   "metadata": {},
   "outputs": [],
   "source": [
    "# import pickle\n",
    "\n",
    "# # Assuming you have a trained model stored in the variable 'model'\n",
    "# # and you want to save it to a file named 'your_model.pkl'\n",
    "\n",
    "# with open('randomforest_Oversampled_normalisasi.pkl', 'wb') as model_file:\n",
    "#     pickle.dump(rf_model, model_file)"
   ]
  },
  {
   "cell_type": "markdown",
   "id": "7793322c",
   "metadata": {},
   "source": [
    "### XgBoost"
   ]
  },
  {
   "cell_type": "code",
   "execution_count": null,
   "id": "68deaf28",
   "metadata": {},
   "outputs": [],
   "source": [
    "xgb_model = XGBClassifier(learning_rate=0.1, n_estimators=100, random_state=42)\n",
    "xgb_model.fit(X_train_normal, y_train_normal)"
   ]
  },
  {
   "cell_type": "code",
   "execution_count": null,
   "id": "ea805157",
   "metadata": {},
   "outputs": [],
   "source": [
    "y_pred_xgb = xgb_model.predict(X_test_normal)\n",
    "# Evaluate the XGBoost model\n",
    "print(\"\\nXGBoost Model:\")\n",
    "accuracy_xgb_smote_normal = round(accuracy_score(y_test_normal, y_pred_xgb),3)\n",
    "print(\"Accuracy:\",accuracy_xgb_smote_normal)\n",
    "print(\"Classification Report:\")\n",
    "print(classification_report(y_test_normal, y_pred_xgb))"
   ]
  },
  {
   "cell_type": "code",
   "execution_count": null,
   "id": "a94db65c",
   "metadata": {},
   "outputs": [],
   "source": [
    "evaluation(y_test_normal,y_pred_xgb)"
   ]
  },
  {
   "cell_type": "code",
   "execution_count": null,
   "id": "49616874",
   "metadata": {},
   "outputs": [],
   "source": [
    "cm = confusion_matrix(y_test_normal, y_pred_xgb)\n",
    "plt.figure(figsize=(8, 6))\n",
    "sns.heatmap(cm, annot=True, fmt=\"d\", cmap=\"Blues\")\n",
    "plt.title('Confusion Matrix')\n",
    "plt.xlabel('True')\n",
    "plt.ylabel('Predict')\n",
    "plt.show()"
   ]
  },
  {
   "cell_type": "markdown",
   "id": "559bdb54",
   "metadata": {},
   "source": [
    "## Tuning Model"
   ]
  },
  {
   "cell_type": "code",
   "execution_count": null,
   "id": "641d5871",
   "metadata": {},
   "outputs": [],
   "source": [
    "from sklearn.model_selection import RandomizedSearchCV"
   ]
  },
  {
   "cell_type": "markdown",
   "id": "3d42ac82",
   "metadata": {},
   "source": [
    "### K-NN"
   ]
  },
  {
   "cell_type": "code",
   "execution_count": null,
   "id": "801c7159",
   "metadata": {},
   "outputs": [],
   "source": [
    "knn_model = KNeighborsClassifier()\n",
    "param_grid = {\n",
    "\"n_neighbors\": range(3, 21),\n",
    "\"metric\": [\"euclidean\", \"manhattan\", \"chebyshev\"],\n",
    "\"weights\": [\"uniform\", \"distance\"],\n",
    "\"algorithm\": [\"auto\", \"ball_tree\", \"kd_tree\"],\n",
    "\"leaf_size\": range(10, 61),\n",
    "}\n",
    "knn_model = RandomizedSearchCV(estimator=knn_model, param_distributions=param_grid, n_iter=100, scoring=\"accuracy\", cv=5)\n",
    "knn_model.fit(X_train_normal, y_train_normal)\n",
    "best_params = knn_model.best_params_\n",
    "print(f\"Best parameters: {best_params}\")"
   ]
  },
  {
   "cell_type": "code",
   "execution_count": null,
   "id": "e1fd3c48",
   "metadata": {},
   "outputs": [],
   "source": [
    "y_pred_knn = knn_model.predict(X_test_normal)\n",
    "# Evaluate the KNN model\n",
    "print(\"K-Nearest Neighbors (KNN) Model:\")\n",
    "accuracy_knn_smote_normal_Tun = round(accuracy_score(y_test_normal,y_pred_knn),3)\n",
    "print(\"Accuracy:\", accuracy_knn_smote_normal_Tun*100)\n",
    "print(\"Classification Report:\")\n",
    "print(classification_report(y_test_normal, y_pred_knn))"
   ]
  },
  {
   "cell_type": "code",
   "execution_count": null,
   "id": "5afcba0c",
   "metadata": {},
   "outputs": [],
   "source": [
    "evaluation(y_test_normal,y_pred_knn)"
   ]
  },
  {
   "cell_type": "code",
   "execution_count": null,
   "id": "ac8535b4",
   "metadata": {},
   "outputs": [],
   "source": [
    "cm = confusion_matrix(y_test_normal, y_pred_knn)\n",
    "plt.figure(figsize=(8, 6))\n",
    "sns.heatmap(cm, annot=True, fmt=\"d\", cmap=\"Blues\")\n",
    "plt.title('Confusion Matrix')\n",
    "plt.xlabel('True')\n",
    "plt.ylabel('Predict')\n",
    "plt.show()"
   ]
  },
  {
   "cell_type": "code",
   "execution_count": null,
   "id": "4152756b",
   "metadata": {},
   "outputs": [],
   "source": [
    "# import pickle\n",
    "\n",
    "# # Assuming you have a trained model stored in the variable 'model'\n",
    "# # and you want to save it to a file named 'your_model.pkl'\n",
    "\n",
    "# with open('knnmodel.pkl', 'wb') as model_file:\n",
    "#     pickle.dump(knn_model, model_file)"
   ]
  },
  {
   "cell_type": "code",
   "execution_count": null,
   "id": "d143ebd8",
   "metadata": {},
   "outputs": [],
   "source": [
    "# from joblib import dump\n",
    "\n",
    "# # Assuming you have a trained model stored in the variable 'model'\n",
    "# # and you want to save it to a file named 'your_model.joblib'\n",
    "\n",
    "# dump(knn_model, 'knn_model.joblib')"
   ]
  },
  {
   "cell_type": "markdown",
   "id": "b624f83d",
   "metadata": {},
   "source": [
    "### Random Forest"
   ]
  },
  {
   "cell_type": "code",
   "execution_count": null,
   "id": "e5cf5923",
   "metadata": {},
   "outputs": [],
   "source": [
    "rf_model = RandomForestClassifier()\n",
    "param_grid = {\n",
    "\"n_estimators\": [100, 200],\n",
    "\"max_depth\": [ 10, 15],\n",
    "\"min_samples_leaf\": [1, 2],\n",
    "\"min_samples_split\": [2, 5],\n",
    "\"max_features\": [\"sqrt\", \"log2\"],\n",
    "# \"random_state\": [42, 100, 200]\n",
    "}\n",
    "rf_model = RandomizedSearchCV(rf_model, param_grid, n_iter=100, cv=5, n_jobs=-1,random_state=42)\n",
    "rf_model.fit(X_train_normal, y_train_normal)\n",
    "best_params = rf_model.best_params_\n",
    "print(f\"Best parameters: {best_params}\")"
   ]
  },
  {
   "cell_type": "code",
   "execution_count": null,
   "id": "f63e590d",
   "metadata": {},
   "outputs": [],
   "source": [
    "y_pred_rf = rf_model.predict(X_test_normal)\n",
    "# Evaluate the Random Forest model\n",
    "print(\"\\nRandom Forest Model:\")\n",
    "accuracy_rf_smote_normal_Tun = round(accuracy_score(y_test_normal, y_pred_rf),3)\n",
    "print(\"Accuracy:\",accuracy_rf_smote_normal_Tun)\n",
    "print(\"Classification Report:\")\n",
    "print(classification_report(y_test_normal, y_pred_rf))"
   ]
  },
  {
   "cell_type": "code",
   "execution_count": null,
   "id": "999073a3",
   "metadata": {},
   "outputs": [],
   "source": [
    "evaluation(y_test_normal,y_pred_rf)"
   ]
  },
  {
   "cell_type": "code",
   "execution_count": null,
   "id": "7f79f020",
   "metadata": {},
   "outputs": [],
   "source": [
    "cm = confusion_matrix(y_test_normal, y_pred_knn)\n",
    "plt.figure(figsize=(8, 6))\n",
    "sns.heatmap(cm, annot=True, fmt=\"d\", cmap=\"Blues\")\n",
    "plt.title('Confusion Matrix')\n",
    "plt.xlabel('True')\n",
    "plt.ylabel('Predict')\n",
    "plt.show()"
   ]
  },
  {
   "cell_type": "code",
   "execution_count": null,
   "id": "af0277e6",
   "metadata": {},
   "outputs": [],
   "source": []
  },
  {
   "cell_type": "markdown",
   "id": "9b25133c",
   "metadata": {},
   "source": [
    "#### XgBoost"
   ]
  },
  {
   "cell_type": "code",
   "execution_count": null,
   "id": "8af0524b",
   "metadata": {},
   "outputs": [],
   "source": [
    "xgb_model = XGBClassifier()\n",
    "param_grid = {\n",
    "\"max_depth\": [3, 5, 7],\n",
    "\"learning_rate\": [0.01, 0.1],\n",
    "\"n_estimators\": [100, 200],\n",
    "\"gamma\": [0, 0.1],\n",
    "\"colsample_bytree\": [0.7, 0.8],\n",
    "}\n",
    "xgb_model = RandomizedSearchCV(xgb_model, param_grid, n_iter=10, cv=5, n_jobs=-1)\n",
    "xgb_model.fit(X_train_normal, y_train_normal)\n",
    "best_params = xgb_model.best_params_\n",
    "print(f\"Best parameters: {best_params}\")"
   ]
  },
  {
   "cell_type": "code",
   "execution_count": null,
   "id": "402d321b",
   "metadata": {},
   "outputs": [],
   "source": [
    "y_pred_xgb = xgb_model.predict(X_test_normal)\n",
    "# Evaluate the XGBoost model\n",
    "print(\"\\nXGBoost Model:\")\n",
    "accuracy_xgb_smote_normal_Tun = round(accuracy_score(y_test_normal, y_pred_xgb),3)\n",
    "print(\"Accuracy:\",accuracy_xgb_smote_normal_Tun)\n",
    "print(\"Classification Report:\")\n",
    "print(classification_report(y_test_normal, y_pred_xgb))"
   ]
  },
  {
   "cell_type": "code",
   "execution_count": null,
   "id": "6a896f91",
   "metadata": {},
   "outputs": [],
   "source": [
    "evaluation(y_test_normal,y_pred_xgb)"
   ]
  },
  {
   "cell_type": "code",
   "execution_count": null,
   "id": "286c4101",
   "metadata": {},
   "outputs": [],
   "source": [
    "cm = confusion_matrix(y_test_normal, y_pred_xgb)\n",
    "plt.figure(figsize=(8, 6))\n",
    "sns.heatmap(cm, annot=True, fmt=\"d\", cmap=\"Blues\")\n",
    "plt.title('Confusion Matrix')\n",
    "plt.xlabel('True')\n",
    "plt.ylabel('Predict')\n",
    "plt.show()"
   ]
  },
  {
   "cell_type": "code",
   "execution_count": null,
   "id": "8756afa8",
   "metadata": {},
   "outputs": [],
   "source": [
    "# import pickle\n",
    "\n",
    "# # Assuming you have a trained model stored in the variable 'model'\n",
    "# # and you want to save it to a file named 'your_model.pkl'\n",
    "\n",
    "# with open('xgBoost_tuning.pkl', 'wb') as model_file:\n",
    "#     pickle.dump(xgb_model, model_file)"
   ]
  },
  {
   "cell_type": "markdown",
   "id": "353f67ae",
   "metadata": {},
   "source": [
    "# Evaluasi"
   ]
  },
  {
   "cell_type": "code",
   "execution_count": null,
   "id": "228c224f",
   "metadata": {},
   "outputs": [],
   "source": [
    "model_comp1 = pd.DataFrame({'Model': ['K-Nearest Neighbour','Random Forest','XGBoost'], \n",
    "                            'Accuracy': [accuracy_knn_smote*100,\n",
    "                                         accuracy_rf_smote*100,\n",
    "                                         accuracy_xgb_smote*100]})\n",
    "model_comp1.head()"
   ]
  },
  {
   "cell_type": "code",
   "execution_count": null,
   "id": "4c8b5352",
   "metadata": {},
   "outputs": [],
   "source": [
    "# Membuat bar plot dengan keterangan jumlah\n",
    "fig, ax = plt.subplots()\n",
    "bars = plt.bar(model_comp1['Model'], model_comp1['Accuracy'], color=['red', 'green', 'blue'])\n",
    "plt.xlabel('Model')\n",
    "plt.ylabel('Accuracy (%)')\n",
    "plt.title('Oversample')\n",
    "plt.xticks(rotation=45, ha='right') # Untuk memutar label sumbu x agar lebih mudah dibaca\n",
    "# Menambahkan keterangan jumlah di atas setiap bar\n",
    "for bar in bars:\n",
    "    yval = bar.get_height()\n",
    "    plt.text(bar.get_x() + bar.get_width()/2, yval, round(yval, 2), ha='center', va='bottom')\n",
    "plt.show()"
   ]
  },
  {
   "cell_type": "code",
   "execution_count": null,
   "id": "bf598f1e",
   "metadata": {},
   "outputs": [],
   "source": [
    "model_comp2 = pd.DataFrame({'Model': ['K-Nearest Neighbour','Random Forest','XGBoost'], \n",
    "                            'Accuracy': [accuracy_knn_smote_normal*100,\n",
    "                                         accuracy_rf_smote_normal*100,\n",
    "                                         accuracy_xgb_smote_normal*100]})\n",
    "\n",
    "model_comp2.head()"
   ]
  },
  {
   "cell_type": "code",
   "execution_count": null,
   "id": "3a5904fa",
   "metadata": {},
   "outputs": [],
   "source": [
    "# Membuat bar plot dengan keterangan jumlah\n",
    "fig, ax = plt.subplots()\n",
    "bars = plt.bar(model_comp2['Model'], model_comp2['Accuracy'], color=['red', 'green', 'blue'])\n",
    "plt.xlabel('Model')\n",
    "plt.ylabel('Accuracy (%)')\n",
    "plt.title('Normalization + Oversampling')\n",
    "plt.xticks(rotation=45, ha='right') # Untuk memutar label sumbu x agar lebih mudah dibaca\n",
    "# Menambahkan keterangan jumlah di atas setiap bar\n",
    "for bar in bars:\n",
    "    yval = bar.get_height()\n",
    "    plt.text(bar.get_x() + bar.get_width()/2, yval, round(yval, 2), ha='center', va='bottom')\n",
    "plt.show()"
   ]
  },
  {
   "cell_type": "code",
   "execution_count": null,
   "id": "f0fe3f57",
   "metadata": {},
   "outputs": [],
   "source": [
    "model_comp3 = pd.DataFrame({'Model': ['K-Nearest Neighbour','Random Forest','XGBoost'], \n",
    "                            'Accuracy': [accuracy_knn_smote_normal_Tun*100,\n",
    "                                         accuracy_rf_smote_normal_Tun*100,\n",
    "                                         accuracy_xgb_smote_normal_Tun*100]})\n",
    "\n",
    "model_comp3.head()"
   ]
  },
  {
   "cell_type": "code",
   "execution_count": null,
   "id": "118e175b",
   "metadata": {},
   "outputs": [],
   "source": [
    "# Membuat bar plot dengan keterangan jumlah\n",
    "fig, ax = plt.subplots()\n",
    "bars = plt.bar(model_comp3['Model'], model_comp3['Accuracy'], color=['red', 'green', 'blue'])\n",
    "plt.xlabel('Model')\n",
    "plt.ylabel('Accuracy (%)')\n",
    "plt.title('Normalization + Oversampling + Tunning')\n",
    "plt.xticks(rotation=45, ha='right') # Untuk memutar label sumbu x agar lebih mudah dibaca\n",
    "# Menambahkan keterangan jumlah di atas setiap bar\n",
    "for bar in bars:\n",
    "    yval = bar.get_height()\n",
    "    plt.text(bar.get_x() + bar.get_width()/2, yval, round(yval, 2), ha='center', va='bottom')\n",
    "plt.show()"
   ]
  },
  {
   "cell_type": "code",
   "execution_count": null,
   "id": "294d3915",
   "metadata": {},
   "outputs": [],
   "source": [
    "# Data frame\n",
    "model_compBest = pd.DataFrame({\n",
    "    'Model': ['K-Nearest Neighbour OverSample Tunning', 'Random Forest OverSample',\n",
    "              'XGB OverSample Standarization Tunning'],\n",
    "    'Accuracy': [accuracy_knn_smote_normal_Tun*100, accuracy_rf_smote_normal*100,\n",
    "                 accuracy_xgb_smote_normal_Tun*100]\n",
    "})\n",
    "\n",
    "# Membuat bar plot dengan keterangan jumlah\n",
    "fig, ax = plt.subplots()\n",
    "bars = plt.bar(model_compBest['Model'], model_compBest['Accuracy'], color=['red', 'green', 'blue'])\n",
    "plt.xlabel('Model')\n",
    "plt.ylabel('Accuracy (%)')\n",
    "plt.title('Best Model Comparison')\n",
    "plt.xticks(rotation=45, ha='right') # Untuk memutar label sumbu x agar lebih mudah dibaca\n",
    "# Menambahkan keterangan jumlah di atas setiap bar\n",
    "for bar in bars:\n",
    "    yval = bar.get_height()\n",
    "    plt.text(bar.get_x() + bar.get_width()/2, yval, round(yval, 2), ha='center', va='bottom')\n",
    "plt.show()"
   ]
  },
  {
   "cell_type": "markdown",
   "id": "9b82cabd",
   "metadata": {},
   "source": [
    "# Kesimpulan"
   ]
  },
  {
   "cell_type": "markdown",
   "id": "d0eb52d2",
   "metadata": {},
   "source": [
    "\n",
    "Dari hasil penelitian di atas, dapat disimpulkan bahwa penanganan ketidakseimbangan data yang optimal melibatkan penggunaan metode Random Oversampling SMOTE, tunning parameter dengan RandomSearchCV, dan normalisasi data memberikan dampak positif pada kinerja model klasifikasi. Oleh karena itu, model terbaik pada penelitian ini terdapat pada model KNN, yang mencapai tingkat akurasi tertinggi sebesar 93%. Sementara model Random Forest, meskipun awalnya memiliki akurasi tinggi, mengalami penurunan signifikan setelah proses tuning dan penanganan ketidakseimbangan data. Model XGBoots juga menunjukkan hasil yang baik dengan akurasi 92%. Maka dari itu, pemilihan model terbaik dapat menjadi keputusan kritis dalam mengoptimalkan performa keseluruhan dari suatu sistem klasifikasi, dan pada penelitian ini, model terbaik dapat diidentifikasi pada model KNN"
   ]
  },
  {
   "cell_type": "code",
   "execution_count": null,
   "id": "9e7599cd",
   "metadata": {},
   "outputs": [],
   "source": []
  }
 ],
 "metadata": {
  "kernelspec": {
   "display_name": "Python 3 (ipykernel)",
   "language": "python",
   "name": "python3"
  },
  "language_info": {
   "codemirror_mode": {
    "name": "ipython",
    "version": 3
   },
   "file_extension": ".py",
   "mimetype": "text/x-python",
   "name": "python",
   "nbconvert_exporter": "python",
   "pygments_lexer": "ipython3",
   "version": "3.9.12"
  },
  "toc": {
   "base_numbering": 1,
   "nav_menu": {},
   "number_sections": true,
   "sideBar": true,
   "skip_h1_title": false,
   "title_cell": "Table of Contents",
   "title_sidebar": "Contents",
   "toc_cell": false,
   "toc_position": {
    "height": "calc(100% - 180px)",
    "left": "10px",
    "top": "150px",
    "width": "330.637px"
   },
   "toc_section_display": true,
   "toc_window_display": true
  },
  "varInspector": {
   "cols": {
    "lenName": 16,
    "lenType": 16,
    "lenVar": 40
   },
   "kernels_config": {
    "python": {
     "delete_cmd_postfix": "",
     "delete_cmd_prefix": "del ",
     "library": "var_list.py",
     "varRefreshCmd": "print(var_dic_list())"
    },
    "r": {
     "delete_cmd_postfix": ") ",
     "delete_cmd_prefix": "rm(",
     "library": "var_list.r",
     "varRefreshCmd": "cat(var_dic_list()) "
    }
   },
   "types_to_exclude": [
    "module",
    "function",
    "builtin_function_or_method",
    "instance",
    "_Feature"
   ],
   "window_display": false
  }
 },
 "nbformat": 4,
 "nbformat_minor": 5
}
